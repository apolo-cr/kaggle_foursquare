{
 "cells": [
  {
   "cell_type": "markdown",
   "id": "d44af480",
   "metadata": {
    "papermill": {
     "duration": 0.011058,
     "end_time": "2022-07-09T18:46:17.335097",
     "exception": false,
     "start_time": "2022-07-09T18:46:17.324039",
     "status": "completed"
    },
    "tags": []
   },
   "source": [
    "I am referring to [@ragnar123](https://www.kaggle.com/ragnar123)'s awesome [notebook](https://www.kaggle.com/code/ragnar123/unsupervised-baseline-arcface) on [shopee competition](https://www.kaggle.com/competitions/shopee-product-matching).\n",
    "\n",
    "Since the design of this competition was similar to that of the shopee competition, I tried metric learning, which is the top solution in \n",
    "the shopee competition.\n",
    "\n",
    "However, unlike the shopee competition, the most important information in this competition is `latitude` and `longitude`, not textual information, so I tried metric learning model in the 1st stage and GBDT model with 1st stage features in the 2nd stage.\n",
    "\n",
    "**about this notebook**\n",
    "\n",
    "On both Kaggle and Colab, training and inference can be run on this single notebook!\n",
    "\n",
    "1. Training\n",
    "    \n",
    "    Set `CFG.train = True` and run.\n",
    "\n",
    "2. Inference\n",
    "\n",
    "    Set `CFG.train = False` and run.\n",
    "\n",
    "\n"
   ]
  },
  {
   "cell_type": "code",
   "execution_count": 1,
   "id": "a583f577",
   "metadata": {
    "execution": {
     "iopub.execute_input": "2022-07-09T18:46:17.357205Z",
     "iopub.status.busy": "2022-07-09T18:46:17.356754Z",
     "iopub.status.idle": "2022-07-09T18:46:18.116663Z",
     "shell.execute_reply": "2022-07-09T18:46:18.115650Z"
    },
    "id": "97e12bc7",
    "outputId": "f9132382-3b28-43d4-e7af-97806eb7e771",
    "papermill": {
     "duration": 0.773779,
     "end_time": "2022-07-09T18:46:18.118930",
     "exception": false,
     "start_time": "2022-07-09T18:46:17.345151",
     "status": "completed"
    },
    "tags": []
   },
   "outputs": [
    {
     "name": "stdout",
     "output_type": "stream",
     "text": [
      "Sat Jul  9 18:46:17 2022       \r\n",
      "+-----------------------------------------------------------------------------+\r\n",
      "| NVIDIA-SMI 470.82.01    Driver Version: 470.82.01    CUDA Version: 11.4     |\r\n",
      "|-------------------------------+----------------------+----------------------+\r\n",
      "| GPU  Name        Persistence-M| Bus-Id        Disp.A | Volatile Uncorr. ECC |\r\n",
      "| Fan  Temp  Perf  Pwr:Usage/Cap|         Memory-Usage | GPU-Util  Compute M. |\r\n",
      "|                               |                      |               MIG M. |\r\n",
      "|===============================+======================+======================|\r\n",
      "|   0  Tesla P100-PCIE...  Off  | 00000000:00:04.0 Off |                    0 |\r\n",
      "| N/A   37C    P0    26W / 250W |      0MiB / 16280MiB |      0%      Default |\r\n",
      "|                               |                      |                  N/A |\r\n",
      "+-------------------------------+----------------------+----------------------+\r\n",
      "                                                                               \r\n",
      "+-----------------------------------------------------------------------------+\r\n",
      "| Processes:                                                                  |\r\n",
      "|  GPU   GI   CI        PID   Type   Process name                  GPU Memory |\r\n",
      "|        ID   ID                                                   Usage      |\r\n",
      "|=============================================================================|\r\n",
      "|  No running processes found                                                 |\r\n",
      "+-----------------------------------------------------------------------------+\r\n"
     ]
    }
   ],
   "source": [
    "!nvidia-smi"
   ]
  },
  {
   "cell_type": "markdown",
   "id": "34400355",
   "metadata": {
    "id": "1e0d427f",
    "papermill": {
     "duration": 0.010412,
     "end_time": "2022-07-09T18:46:18.139927",
     "exception": false,
     "start_time": "2022-07-09T18:46:18.129515",
     "status": "completed"
    },
    "tags": []
   },
   "source": [
    "# Library"
   ]
  },
  {
   "cell_type": "code",
   "execution_count": 2,
   "id": "1a6fff09",
   "metadata": {
    "execution": {
     "iopub.execute_input": "2022-07-09T18:46:18.161399Z",
     "iopub.status.busy": "2022-07-09T18:46:18.160770Z",
     "iopub.status.idle": "2022-07-09T18:46:23.251718Z",
     "shell.execute_reply": "2022-07-09T18:46:23.250317Z"
    },
    "id": "6f9da346",
    "outputId": "6a7d26d5-c812-4c3b-decd-df8546a7e044",
    "papermill": {
     "duration": 5.104839,
     "end_time": "2022-07-09T18:46:23.254580",
     "exception": false,
     "start_time": "2022-07-09T18:46:18.149741",
     "status": "completed"
    },
    "tags": []
   },
   "outputs": [
    {
     "data": {
      "text/html": [
       "<style type='text/css'>\n",
       ".datatable table.frame { margin-bottom: 0; }\n",
       ".datatable table.frame thead { border-bottom: none; }\n",
       ".datatable table.frame tr.coltypes td {  color: #FFFFFF;  line-height: 6px;  padding: 0 0.5em;}\n",
       ".datatable .bool    { background: #DDDD99; }\n",
       ".datatable .object  { background: #565656; }\n",
       ".datatable .int     { background: #5D9E5D; }\n",
       ".datatable .float   { background: #4040CC; }\n",
       ".datatable .str     { background: #CC4040; }\n",
       ".datatable .time    { background: #40CC40; }\n",
       ".datatable .row_index {  background: var(--jp-border-color3);  border-right: 1px solid var(--jp-border-color0);  color: var(--jp-ui-font-color3);  font-size: 9px;}\n",
       ".datatable .frame tbody td { text-align: left; }\n",
       ".datatable .frame tr.coltypes .row_index {  background: var(--jp-border-color0);}\n",
       ".datatable th:nth-child(2) { padding-left: 12px; }\n",
       ".datatable .hellipsis {  color: var(--jp-cell-editor-border-color);}\n",
       ".datatable .vellipsis {  background: var(--jp-layout-color0);  color: var(--jp-cell-editor-border-color);}\n",
       ".datatable .na {  color: var(--jp-cell-editor-border-color);  font-size: 80%;}\n",
       ".datatable .sp {  opacity: 0.25;}\n",
       ".datatable .footer { font-size: 9px; }\n",
       ".datatable .frame_dimensions {  background: var(--jp-border-color3);  border-top: 1px solid var(--jp-border-color0);  color: var(--jp-ui-font-color3);  display: inline-block;  opacity: 0.6;  padding: 1px 10px 1px 5px;}\n",
       "</style>\n"
      ],
      "text/plain": [
       "<IPython.core.display.HTML object>"
      ]
     },
     "metadata": {},
     "output_type": "display_data"
    },
    {
     "name": "stdout",
     "output_type": "stream",
     "text": [
      "Using device: cuda\n"
     ]
    }
   ],
   "source": [
    "# ====================================================\n",
    "# import libraries1\n",
    "# ====================================================\n",
    "\n",
    "import warnings\n",
    "warnings.filterwarnings('ignore')\n",
    "\n",
    "import os\n",
    "import sys\n",
    "import math\n",
    "import random\n",
    "import time\n",
    "import numpy as np\n",
    "import pandas as pd\n",
    "import gc\n",
    "import json\n",
    "import joblib\n",
    "from tqdm import tqdm\n",
    "from pathlib import Path\n",
    "import itertools\n",
    "import collections\n",
    "from collections import Counter\n",
    "\n",
    "import torch\n",
    "import torch.nn.functional as F\n",
    "import torch.nn as nn\n",
    "from torch.utils.data import DataLoader, Dataset\n",
    "import torch.optim as optim\n",
    "from torch.optim import lr_scheduler\n",
    "from torch.utils.data import Dataset, DataLoader\n",
    "from torch.optim.lr_scheduler import CosineAnnealingWarmRestarts, CosineAnnealingLR, ReduceLROnPlateau, _LRScheduler\n",
    "from torch.nn import Parameter\n",
    "\n",
    "import datetime\n",
    "from datetime import timedelta\n",
    "import hashlib\n",
    "import difflib\n",
    "import seaborn as sns\n",
    "import matplotlib.pyplot as plt\n",
    "from requests import get\n",
    "from PIL import Image\n",
    "import pickle\n",
    "from contextlib import contextmanager\n",
    "import multiprocessing\n",
    "\n",
    "from sklearn.model_selection import StratifiedKFold, GroupKFold, KFold\n",
    "from sklearn.neighbors import KNeighborsRegressor, NearestNeighbors\n",
    "from sklearn.metrics import mean_squared_error, f1_score\n",
    "from sklearn.linear_model import RidgeCV\n",
    "from sklearn.base import BaseEstimator, TransformerMixin\n",
    "from sklearn.preprocessing import LabelEncoder\n",
    "from sklearn.utils.class_weight import compute_sample_weight\n",
    "from sklearn.metrics.pairwise import cosine_similarity\n",
    "from sklearn.decomposition import TruncatedSVD\n",
    "from sklearn.feature_extraction.text import TfidfVectorizer\n",
    "from gensim.models import word2vec\n",
    "\n",
    "import lightgbm as lgb\n",
    "import typing as tp\n",
    "\n",
    "from logging import getLogger, INFO, StreamHandler, FileHandler, Formatter\n",
    "\n",
    "tqdm.pandas()\n",
    "pd.set_option('display.max_rows', 500)\n",
    "pd.set_option('display.max_columns', 500)\n",
    "\n",
    "if torch.cuda.is_available():\n",
    "    device = torch.device('cuda')\n",
    "else:\n",
    "    device = torch.device('cpu')\n",
    "    \n",
    "print(f'Using device: {device}')"
   ]
  },
  {
   "cell_type": "markdown",
   "id": "1eb4065b",
   "metadata": {
    "id": "88f91350",
    "papermill": {
     "duration": 0.009903,
     "end_time": "2022-07-09T18:46:23.275486",
     "exception": false,
     "start_time": "2022-07-09T18:46:23.265583",
     "status": "completed"
    },
    "tags": []
   },
   "source": [
    "# Config"
   ]
  },
  {
   "cell_type": "code",
   "execution_count": 3,
   "id": "fb60872a",
   "metadata": {
    "execution": {
     "iopub.execute_input": "2022-07-09T18:46:23.297452Z",
     "iopub.status.busy": "2022-07-09T18:46:23.297134Z",
     "iopub.status.idle": "2022-07-09T18:46:23.303993Z",
     "shell.execute_reply": "2022-07-09T18:46:23.303263Z"
    },
    "id": "c601dce5",
    "papermill": {
     "duration": 0.019759,
     "end_time": "2022-07-09T18:46:23.305824",
     "exception": false,
     "start_time": "2022-07-09T18:46:23.286065",
     "status": "completed"
    },
    "tags": []
   },
   "outputs": [],
   "source": [
    "class CFG:\n",
    "    # ====================================================\n",
    "    # Basic Setting\n",
    "    # ====================================================\n",
    "    colab = \"google.colab\" in sys.modules\n",
    "    exp = \"130\"\n",
    "    train = False\n",
    "    api_path = '/content/drive/My Drive/kaggle.json'\n",
    "    seed = 42\n",
    "    n_neighbors = 50\n",
    "    threshold = 0.15\n",
    "    # ====================================================\n",
    "    # Model\n",
    "    # ====================================================\n",
    "    model = \"sentence-transformers/paraphrase-multilingual-mpnet-base-v2\"\n",
    "    epochs = 15\n",
    "    num_workers = 8\n",
    "    batch_size = 32\n",
    "    max_length = 32\n",
    "    lr = 1e-5\n",
    "    scheduler= 'linear' # ['linear', 'cosine', 'ReduceLROnPlateau', 'CosineAnnealingLR', 'CosineAnnealingWarmRestarts', 'CosineAnnealingWarmupRestarts']\n",
    "\n",
    "if not CFG.colab:\n",
    "    CFG.model = \"../input/sbert-models/paraphrase-multilingual-mpnet-base-v2\""
   ]
  },
  {
   "cell_type": "code",
   "execution_count": 4,
   "id": "43607e48",
   "metadata": {
    "execution": {
     "iopub.execute_input": "2022-07-09T18:46:23.327818Z",
     "iopub.status.busy": "2022-07-09T18:46:23.327567Z",
     "iopub.status.idle": "2022-07-09T18:46:58.951501Z",
     "shell.execute_reply": "2022-07-09T18:46:58.950617Z"
    },
    "id": "43929680",
    "outputId": "1a889400-65dc-4e31-f51e-be821bb27cb4",
    "papermill": {
     "duration": 35.63708,
     "end_time": "2022-07-09T18:46:58.953567",
     "exception": false,
     "start_time": "2022-07-09T18:46:23.316487",
     "status": "completed"
    },
    "tags": []
   },
   "outputs": [
    {
     "name": "stdout",
     "output_type": "stream",
     "text": [
      "==============================================\n",
      " This environment is Kaggle Notebook\n",
      "==============================================\n",
      "Processing /kaggle/input/reversegeocode/reverse_geocode-1.4.1-py3-none-any.whl\r\n",
      "Requirement already satisfied: numpy in /opt/conda/lib/python3.7/site-packages (from reverse-geocode==1.4.1) (1.21.6)\r\n",
      "Requirement already satisfied: scipy in /opt/conda/lib/python3.7/site-packages (from reverse-geocode==1.4.1) (1.7.3)\r\n",
      "Installing collected packages: reverse-geocode\r\n",
      "Successfully installed reverse-geocode-1.4.1\r\n",
      "\u001b[33mWARNING: Running pip as the 'root' user can result in broken permissions and conflicting behaviour with the system package manager. It is recommended to use a virtual environment instead: https://pip.pypa.io/warnings/venv\u001b[0m\u001b[33m\r\n",
      "\u001b[0m\u001b[33mWARNING: There was an error checking the latest version of pip.\u001b[0m\u001b[33m\r\n",
      "\u001b[0m"
     ]
    }
   ],
   "source": [
    "if CFG.colab:\n",
    "    print(\"==============================================\")\n",
    "    print(\"This environment is Google Colab\")\n",
    "    print(\"==============================================\")\n",
    "\n",
    "    # Google Drive\n",
    "    from google.colab import drive, files\n",
    "    drive.mount('/content/drive')\n",
    "    %cd \"drive/My Drive/foursquare/\"\n",
    "\n",
    "    # Kaggle API\n",
    "    f = open(CFG.api_path, 'r')\n",
    "    json_data = json.load(f) \n",
    "    os.environ[\"KAGGLE_USERNAME\"] = json_data[\"username\"]\n",
    "    os.environ[\"KAGGLE_KEY\"] = json_data[\"key\"]\n",
    "\n",
    "    # Directory Setting\n",
    "    if not os.path.exists(f\"output/exp{CFG.exp}/\"):\n",
    "        os.makedirs(f\"output/exp{CFG.exp}/\")\n",
    "    \n",
    "    DATA_DIR = \"input/\"\n",
    "    OUTPUT_DIR = f\"output/exp{CFG.exp}/\"\n",
    "    MODEL_DIR = OUTPUT_DIR\n",
    "    \n",
    "    # Data Loading\n",
    "    if not os.path.isfile(os.path.join(DATA_DIR, \"foursquare-location-matching.zip\")):\n",
    "        !kaggle competitions download -c foursquare-location-matching -p $DATA_DIR\n",
    "\n",
    "    # Libraries\n",
    "    #!pip install -q catboost\n",
    "    #!pip install -q Levenshtein\n",
    "    #!pip install -q textdistance==4.2.2\n",
    "    #!pip install -q pylcs==0.0.6\n",
    "    #!pip install -q fasttext\n",
    "    !pip install -q reverse_geocode\n",
    "    !pip install -q transformers\n",
    "    !pip install -q sentence_transformers==2.2.0\n",
    "\n",
    "else:\n",
    "    print(\"==============================================\")\n",
    "    print(\" This environment is Kaggle Notebook\")\n",
    "    print(\"==============================================\")\n",
    "\n",
    "    # Directory Setting\n",
    "    DATA_DIR = \"../input/foursquare-location-matching/\"\n",
    "    OUTPUT_DIR = \"./\"\n",
    "    MODEL_DIR = f\"../input/foursquare-stage1-exp{CFG.exp}/\"\n",
    "\n",
    "    # Libraries\n",
    "    !pip install /kaggle/input/reversegeocode/reverse_geocode-1.4.1-py3-none-any.whl\n",
    "    #!pip install ../input/textdistance-install/textdistance-4.2.2-py3-none-any.whl\n",
    "    #!pip install --force-reinstall ../input/pylcs-install/pybind11-2.9.2-py2.py3-none-any.whl\n",
    "\n",
    "    #!rm -r mypip\n",
    "    #!mkdir mypip\n",
    "    #!tar -czvf mypip/pylcs-0.0.6.tar.gz -C ../input/pylcs-install/pylcs-0.0.6/pylcs-0.0.6 .\n",
    "    #!ls -l mypip\n",
    "\n",
    "    #!pip install --no-index mypip/pylcs-0.0.6.tar.gz\n",
    "    \n",
    "    sys.path.append(\"../input/sentencetransformersinstall/sentence-transformers-2.2.0\")\n",
    "\n",
    "# ====================================================\n",
    "# import libraries2\n",
    "# ====================================================\n",
    "\n",
    "#from catboost import CatBoost, Pool\n",
    "#import Levenshtein\n",
    "#import pylcs\n",
    "#import textdistance\n",
    "import reverse_geocode\n",
    "#from fasttext import load_model\n",
    "from transformers import DistilBertModel, DistilBertTokenizer, AutoTokenizer, AutoModel, AutoConfig\n",
    "from transformers import AdamW\n",
    "from transformers import get_linear_schedule_with_warmup,get_cosine_schedule_with_warmup\n",
    "from transformers import get_cosine_with_hard_restarts_schedule_with_warmup"
   ]
  },
  {
   "cell_type": "markdown",
   "id": "5ab8ba9f",
   "metadata": {
    "id": "7850cddb",
    "papermill": {
     "duration": 0.010376,
     "end_time": "2022-07-09T18:46:58.975517",
     "exception": false,
     "start_time": "2022-07-09T18:46:58.965141",
     "status": "completed"
    },
    "tags": []
   },
   "source": [
    "# Helper Functions"
   ]
  },
  {
   "cell_type": "code",
   "execution_count": 5,
   "id": "a3bfe8d8",
   "metadata": {
    "execution": {
     "iopub.execute_input": "2022-07-09T18:46:58.998491Z",
     "iopub.status.busy": "2022-07-09T18:46:58.997878Z",
     "iopub.status.idle": "2022-07-09T18:46:59.010727Z",
     "shell.execute_reply": "2022-07-09T18:46:59.009912Z"
    },
    "id": "0593c4ad",
    "papermill": {
     "duration": 0.026283,
     "end_time": "2022-07-09T18:46:59.012343",
     "exception": false,
     "start_time": "2022-07-09T18:46:58.986060",
     "status": "completed"
    },
    "tags": []
   },
   "outputs": [],
   "source": [
    "def reduce_mem_usage(df, verbose=True):\n",
    "    numerics = ['int16', 'int32', 'int64', 'float16', 'float32', 'float64']\n",
    "    start_mem = df.memory_usage().sum() / 1024**2    \n",
    "    for col in df.columns:\n",
    "        col_type = df[col].dtypes\n",
    "        if col_type in numerics:\n",
    "            c_min = df[col].min()\n",
    "            c_max = df[col].max()\n",
    "            if str(col_type)[:3] == 'int':\n",
    "                if c_min > np.iinfo(np.int8).min and c_max < np.iinfo(np.int8).max:\n",
    "                    df[col] = df[col].astype(np.int8)\n",
    "                elif c_min > np.iinfo(np.int16).min and c_max < np.iinfo(np.int16).max:\n",
    "                    df[col] = df[col].astype(np.int16)\n",
    "                elif c_min > np.iinfo(np.int32).min and c_max < np.iinfo(np.int32).max:\n",
    "                    df[col] = df[col].astype(np.int32)\n",
    "                elif c_min > np.iinfo(np.int64).min and c_max < np.iinfo(np.int64).max:\n",
    "                    df[col] = df[col].astype(np.int64)  \n",
    "            else:\n",
    "                if c_min > np.finfo(np.float16).min and c_max < np.finfo(np.float16).max:\n",
    "                    df[col] = df[col].astype(np.float16)\n",
    "                elif c_min > np.finfo(np.float32).min and c_max < np.finfo(np.float32).max:\n",
    "                    df[col] = df[col].astype(np.float32)\n",
    "                else:\n",
    "                    df[col] = df[col].astype(np.float64)    \n",
    "    end_mem = df.memory_usage().sum() / 1024**2\n",
    "    if verbose: print('Memory usage decreased to {:5.2f} Mb ({:.1f}% reduction)'.format(end_mem, 100 * (start_mem - end_mem) / start_mem))\n",
    "    return df"
   ]
  },
  {
   "cell_type": "code",
   "execution_count": 6,
   "id": "c0051471",
   "metadata": {
    "execution": {
     "iopub.execute_input": "2022-07-09T18:46:59.035315Z",
     "iopub.status.busy": "2022-07-09T18:46:59.034553Z",
     "iopub.status.idle": "2022-07-09T18:46:59.039356Z",
     "shell.execute_reply": "2022-07-09T18:46:59.038674Z"
    },
    "id": "376681d2",
    "papermill": {
     "duration": 0.018257,
     "end_time": "2022-07-09T18:46:59.041076",
     "exception": false,
     "start_time": "2022-07-09T18:46:59.022819",
     "status": "completed"
    },
    "tags": []
   },
   "outputs": [],
   "source": [
    "@contextmanager\n",
    "def timer(name: str):\n",
    "    t0 = time.time()\n",
    "    print(f\"[{name}] start\")\n",
    "    yield\n",
    "    msg = f\"[{name}] done in {time.time() - t0:.0f} s\"\n",
    "    print(msg)"
   ]
  },
  {
   "cell_type": "code",
   "execution_count": 7,
   "id": "cd78d936",
   "metadata": {
    "execution": {
     "iopub.execute_input": "2022-07-09T18:46:59.064263Z",
     "iopub.status.busy": "2022-07-09T18:46:59.063938Z",
     "iopub.status.idle": "2022-07-09T18:46:59.072741Z",
     "shell.execute_reply": "2022-07-09T18:46:59.072098Z"
    },
    "id": "dcd5b647",
    "papermill": {
     "duration": 0.022671,
     "end_time": "2022-07-09T18:46:59.074462",
     "exception": false,
     "start_time": "2022-07-09T18:46:59.051791",
     "status": "completed"
    },
    "tags": []
   },
   "outputs": [],
   "source": [
    "def seed_everything(seed=42):\n",
    "    random.seed(seed)\n",
    "    os.environ[\"PYTHONHASHSEED\"] = str(seed)\n",
    "    np.random.seed(seed)\n",
    "    torch.manual_seed(seed)\n",
    "    torch.cuda.manual_seed(seed)\n",
    "    torch.cuda.manual_seed_all(seed)\n",
    "    torch.backends.cudnn.deterministic = True\n",
    "    torch.backends.cudnn.benchmark = True\n",
    "    os.environ[\"TOKENIZERS_PARALLELISM\"] = \"false\"\n",
    "\n",
    "seed_everything(CFG.seed)"
   ]
  },
  {
   "cell_type": "code",
   "execution_count": 8,
   "id": "7fa69969",
   "metadata": {
    "execution": {
     "iopub.execute_input": "2022-07-09T18:46:59.096016Z",
     "iopub.status.busy": "2022-07-09T18:46:59.095766Z",
     "iopub.status.idle": "2022-07-09T18:46:59.101852Z",
     "shell.execute_reply": "2022-07-09T18:46:59.101173Z"
    },
    "id": "6a61b154",
    "outputId": "1a3bb24e-ce6e-478e-9647-a0dda94e224b",
    "papermill": {
     "duration": 0.018933,
     "end_time": "2022-07-09T18:46:59.103697",
     "exception": false,
     "start_time": "2022-07-09T18:46:59.084764",
     "status": "completed"
    },
    "tags": []
   },
   "outputs": [
    {
     "data": {
      "text/plain": [
       "<torch._C.Generator at 0x7f04eeb74b90>"
      ]
     },
     "execution_count": 8,
     "metadata": {},
     "output_type": "execute_result"
    }
   ],
   "source": [
    "def seed_worker(worker_id):\n",
    "    worker_seed = torch.initial_seed() % 2**32\n",
    "    np.random.seed(worker_seed)\n",
    "    random.seed(worker_seed)\n",
    "\n",
    "g = torch.Generator()\n",
    "g.manual_seed(CFG.seed)"
   ]
  },
  {
   "cell_type": "code",
   "execution_count": 9,
   "id": "c692a8c9",
   "metadata": {
    "execution": {
     "iopub.execute_input": "2022-07-09T18:46:59.126989Z",
     "iopub.status.busy": "2022-07-09T18:46:59.126735Z",
     "iopub.status.idle": "2022-07-09T18:46:59.132738Z",
     "shell.execute_reply": "2022-07-09T18:46:59.131930Z"
    },
    "id": "5bda4708",
    "papermill": {
     "duration": 0.019544,
     "end_time": "2022-07-09T18:46:59.134511",
     "exception": false,
     "start_time": "2022-07-09T18:46:59.114967",
     "status": "completed"
    },
    "tags": []
   },
   "outputs": [],
   "source": [
    "def init_logger(log_file=OUTPUT_DIR+'train.log'):\n",
    "    logger = getLogger(__name__)\n",
    "    logger.setLevel(INFO)\n",
    "    logger.hasHandlers()\n",
    "    handler1 = StreamHandler()\n",
    "    handler1.setFormatter(Formatter(\"%(message)s\"))\n",
    "    handler2 = FileHandler(filename=log_file)\n",
    "    handler2.setFormatter(Formatter(\"%(message)s\"))\n",
    "    logger.addHandler(handler1)\n",
    "    logger.addHandler(handler2)\n",
    "    return logger\n",
    "\n",
    "LOGGER = init_logger()"
   ]
  },
  {
   "cell_type": "code",
   "execution_count": 10,
   "id": "e802e958",
   "metadata": {
    "execution": {
     "iopub.execute_input": "2022-07-09T18:46:59.156494Z",
     "iopub.status.busy": "2022-07-09T18:46:59.156228Z",
     "iopub.status.idle": "2022-07-09T18:46:59.164759Z",
     "shell.execute_reply": "2022-07-09T18:46:59.163946Z"
    },
    "id": "f7e541ae",
    "papermill": {
     "duration": 0.021254,
     "end_time": "2022-07-09T18:46:59.166326",
     "exception": false,
     "start_time": "2022-07-09T18:46:59.145072",
     "status": "completed"
    },
    "tags": []
   },
   "outputs": [],
   "source": [
    "def get_id2poi(input_df: pd.DataFrame) -> dict:\n",
    "    return dict(zip(input_df['id'], input_df['point_of_interest']))\n",
    "\n",
    "def get_poi2ids(input_df: pd.DataFrame) -> dict:\n",
    "    return input_df.groupby('point_of_interest')['id'].apply(set).to_dict()\n",
    "\n",
    "def get_score(input_df: pd.DataFrame):\n",
    "    scores = []\n",
    "    for id_str, matches in zip(input_df['id'].to_numpy(), input_df['matches'].to_numpy()):\n",
    "        targets = poi2ids[id2poi[id_str]]\n",
    "        preds = set(matches.split())\n",
    "        score = len((targets & preds)) / len((targets | preds))\n",
    "        scores.append(score)\n",
    "    scores = np.array(scores)\n",
    "    return scores.mean()\n",
    "\n",
    "def analysis(df):\n",
    "    print('Num of data: %s' % len(df))\n",
    "    print('Num of unique id: %s' % df['id'].nunique())\n",
    "    print('Num of unique poi: %s' % df['point_of_interest'].nunique())\n",
    "    \n",
    "    poi_grouped = df.groupby('point_of_interest')['id'].count().reset_index()\n",
    "    print('Mean num of unique poi: %s' % poi_grouped['id'].mean())"
   ]
  },
  {
   "cell_type": "code",
   "execution_count": 11,
   "id": "1a5cfeef",
   "metadata": {
    "execution": {
     "iopub.execute_input": "2022-07-09T18:46:59.188598Z",
     "iopub.status.busy": "2022-07-09T18:46:59.187915Z",
     "iopub.status.idle": "2022-07-09T18:46:59.192470Z",
     "shell.execute_reply": "2022-07-09T18:46:59.191770Z"
    },
    "id": "262b5dce",
    "papermill": {
     "duration": 0.017315,
     "end_time": "2022-07-09T18:46:59.194145",
     "exception": false,
     "start_time": "2022-07-09T18:46:59.176830",
     "status": "completed"
    },
    "tags": []
   },
   "outputs": [],
   "source": [
    "def cos_sim(v1, v2):\n",
    "    return np.dot(v1, v2) / (np.linalg.norm(v1) * np.linalg.norm(v2))"
   ]
  },
  {
   "cell_type": "markdown",
   "id": "0ff1cd77",
   "metadata": {
    "id": "5084ce59",
    "papermill": {
     "duration": 0.010904,
     "end_time": "2022-07-09T18:46:59.215907",
     "exception": false,
     "start_time": "2022-07-09T18:46:59.205003",
     "status": "completed"
    },
    "tags": []
   },
   "source": [
    "# Data Loading"
   ]
  },
  {
   "cell_type": "code",
   "execution_count": 12,
   "id": "3f264059",
   "metadata": {
    "execution": {
     "iopub.execute_input": "2022-07-09T18:46:59.238551Z",
     "iopub.status.busy": "2022-07-09T18:46:59.238290Z",
     "iopub.status.idle": "2022-07-09T18:46:59.273887Z",
     "shell.execute_reply": "2022-07-09T18:46:59.272628Z"
    },
    "id": "792f43b4",
    "outputId": "7062f96b-5789-4001-bd31-8467c4eef701",
    "papermill": {
     "duration": 0.049341,
     "end_time": "2022-07-09T18:46:59.275985",
     "exception": false,
     "start_time": "2022-07-09T18:46:59.226644",
     "status": "completed"
    },
    "tags": []
   },
   "outputs": [
    {
     "name": "stdout",
     "output_type": "stream",
     "text": [
      "[Data Loading] start\n",
      "[Data Loading] done in 0 s\n"
     ]
    },
    {
     "data": {
      "text/html": [
       "<div>\n",
       "<style scoped>\n",
       "    .dataframe tbody tr th:only-of-type {\n",
       "        vertical-align: middle;\n",
       "    }\n",
       "\n",
       "    .dataframe tbody tr th {\n",
       "        vertical-align: top;\n",
       "    }\n",
       "\n",
       "    .dataframe thead th {\n",
       "        text-align: right;\n",
       "    }\n",
       "</style>\n",
       "<table border=\"1\" class=\"dataframe\">\n",
       "  <thead>\n",
       "    <tr style=\"text-align: right;\">\n",
       "      <th></th>\n",
       "      <th>id</th>\n",
       "      <th>name</th>\n",
       "      <th>latitude</th>\n",
       "      <th>longitude</th>\n",
       "      <th>address</th>\n",
       "      <th>city</th>\n",
       "      <th>state</th>\n",
       "      <th>zip</th>\n",
       "      <th>country</th>\n",
       "      <th>url</th>\n",
       "      <th>phone</th>\n",
       "      <th>categories</th>\n",
       "      <th>point_of_interest</th>\n",
       "    </tr>\n",
       "  </thead>\n",
       "  <tbody>\n",
       "    <tr>\n",
       "      <th>0</th>\n",
       "      <td>E_00001118ad0191</td>\n",
       "      <td>Jamu Petani Bagan Serai</td>\n",
       "      <td>5.012169</td>\n",
       "      <td>100.535805</td>\n",
       "      <td>NaN</td>\n",
       "      <td>NaN</td>\n",
       "      <td>NaN</td>\n",
       "      <td>NaN</td>\n",
       "      <td>MY</td>\n",
       "      <td>NaN</td>\n",
       "      <td>NaN</td>\n",
       "      <td>Cafés</td>\n",
       "      <td>match</td>\n",
       "    </tr>\n",
       "    <tr>\n",
       "      <th>1</th>\n",
       "      <td>E_000020eb6fed40</td>\n",
       "      <td>Johnny's Bar</td>\n",
       "      <td>40.434209</td>\n",
       "      <td>-80.564160</td>\n",
       "      <td>497 N 12th St</td>\n",
       "      <td>Weirton</td>\n",
       "      <td>WV</td>\n",
       "      <td>26062.0</td>\n",
       "      <td>US</td>\n",
       "      <td>NaN</td>\n",
       "      <td>NaN</td>\n",
       "      <td>Bars</td>\n",
       "      <td>match</td>\n",
       "    </tr>\n",
       "    <tr>\n",
       "      <th>2</th>\n",
       "      <td>E_00002f98667edf</td>\n",
       "      <td>QIWI</td>\n",
       "      <td>47.215134</td>\n",
       "      <td>39.686088</td>\n",
       "      <td>Межевая улица, 60</td>\n",
       "      <td>Ростов-на-Дону</td>\n",
       "      <td>NaN</td>\n",
       "      <td>NaN</td>\n",
       "      <td>RU</td>\n",
       "      <td>https://qiwi.com</td>\n",
       "      <td>7.800301e+10</td>\n",
       "      <td>ATMs</td>\n",
       "      <td>match</td>\n",
       "    </tr>\n",
       "    <tr>\n",
       "      <th>3</th>\n",
       "      <td>E_001b6bad66eb98</td>\n",
       "      <td>Gelora Sriwijaya, Jaka Baring Sport City</td>\n",
       "      <td>-3.014675</td>\n",
       "      <td>104.794374</td>\n",
       "      <td>NaN</td>\n",
       "      <td>NaN</td>\n",
       "      <td>NaN</td>\n",
       "      <td>NaN</td>\n",
       "      <td>ID</td>\n",
       "      <td>NaN</td>\n",
       "      <td>NaN</td>\n",
       "      <td>Stadiums</td>\n",
       "      <td>match</td>\n",
       "    </tr>\n",
       "    <tr>\n",
       "      <th>4</th>\n",
       "      <td>E_0283d9f61e569d</td>\n",
       "      <td>Stadion Gelora Sriwijaya</td>\n",
       "      <td>-3.021727</td>\n",
       "      <td>104.788628</td>\n",
       "      <td>Jalan Gubernur Hasan Bastari</td>\n",
       "      <td>Palembang</td>\n",
       "      <td>South Sumatra</td>\n",
       "      <td>11480.0</td>\n",
       "      <td>ID</td>\n",
       "      <td>NaN</td>\n",
       "      <td>NaN</td>\n",
       "      <td>Soccer Stadiums</td>\n",
       "      <td>match</td>\n",
       "    </tr>\n",
       "  </tbody>\n",
       "</table>\n",
       "</div>"
      ],
      "text/plain": [
       "                 id                                      name   latitude  \\\n",
       "0  E_00001118ad0191                   Jamu Petani Bagan Serai   5.012169   \n",
       "1  E_000020eb6fed40                              Johnny's Bar  40.434209   \n",
       "2  E_00002f98667edf                                      QIWI  47.215134   \n",
       "3  E_001b6bad66eb98  Gelora Sriwijaya, Jaka Baring Sport City  -3.014675   \n",
       "4  E_0283d9f61e569d                  Stadion Gelora Sriwijaya  -3.021727   \n",
       "\n",
       "    longitude                       address            city          state  \\\n",
       "0  100.535805                           NaN             NaN            NaN   \n",
       "1  -80.564160                 497 N 12th St         Weirton             WV   \n",
       "2   39.686088             Межевая улица, 60  Ростов-на-Дону            NaN   \n",
       "3  104.794374                           NaN             NaN            NaN   \n",
       "4  104.788628  Jalan Gubernur Hasan Bastari       Palembang  South Sumatra   \n",
       "\n",
       "       zip country               url         phone       categories  \\\n",
       "0      NaN      MY               NaN           NaN            Cafés   \n",
       "1  26062.0      US               NaN           NaN             Bars   \n",
       "2      NaN      RU  https://qiwi.com  7.800301e+10             ATMs   \n",
       "3      NaN      ID               NaN           NaN         Stadiums   \n",
       "4  11480.0      ID               NaN           NaN  Soccer Stadiums   \n",
       "\n",
       "  point_of_interest  \n",
       "0             match  \n",
       "1             match  \n",
       "2             match  \n",
       "3             match  \n",
       "4             match  "
      ]
     },
     "metadata": {},
     "output_type": "display_data"
    }
   ],
   "source": [
    "with timer(\"Data Loading\"):\n",
    "    if CFG.train:\n",
    "        original_df = pd.read_csv(DATA_DIR + \"train.csv\")\n",
    "    else:\n",
    "        original_df = pd.read_csv(DATA_DIR + \"test.csv\")\n",
    "        original_df[\"point_of_interest\"] = \"match\"\n",
    "display(original_df)"
   ]
  },
  {
   "cell_type": "code",
   "execution_count": 13,
   "id": "0c81396c",
   "metadata": {
    "execution": {
     "iopub.execute_input": "2022-07-09T18:46:59.299411Z",
     "iopub.status.busy": "2022-07-09T18:46:59.299157Z",
     "iopub.status.idle": "2022-07-09T18:46:59.307057Z",
     "shell.execute_reply": "2022-07-09T18:46:59.306185Z"
    },
    "id": "be34346d",
    "papermill": {
     "duration": 0.021394,
     "end_time": "2022-07-09T18:46:59.308696",
     "exception": false,
     "start_time": "2022-07-09T18:46:59.287302",
     "status": "completed"
    },
    "tags": []
   },
   "outputs": [],
   "source": [
    "id2poi = get_id2poi(original_df)\n",
    "poi2ids = get_poi2ids(original_df)"
   ]
  },
  {
   "cell_type": "code",
   "execution_count": 14,
   "id": "f6d8e889",
   "metadata": {
    "execution": {
     "iopub.execute_input": "2022-07-09T18:46:59.331641Z",
     "iopub.status.busy": "2022-07-09T18:46:59.331272Z",
     "iopub.status.idle": "2022-07-09T18:46:59.338730Z",
     "shell.execute_reply": "2022-07-09T18:46:59.338007Z"
    },
    "id": "f8a84799",
    "outputId": "16c88d9d-55f4-4b44-a392-c3b94eca3c12",
    "papermill": {
     "duration": 0.021917,
     "end_time": "2022-07-09T18:46:59.341322",
     "exception": false,
     "start_time": "2022-07-09T18:46:59.319405",
     "status": "completed"
    },
    "tags": []
   },
   "outputs": [
    {
     "name": "stdout",
     "output_type": "stream",
     "text": [
      "n_classes: 1\n"
     ]
    }
   ],
   "source": [
    "le = LabelEncoder()\n",
    "original_df['point_of_interest'] = le.fit_transform(original_df['point_of_interest'])\n",
    "original_df['point_of_interest'] = original_df['point_of_interest'].astype(\"int32\")\n",
    "\n",
    "n_classes = original_df[\"point_of_interest\"].nunique()\n",
    "print(f\"n_classes: {n_classes}\")"
   ]
  },
  {
   "cell_type": "markdown",
   "id": "2942e658",
   "metadata": {
    "id": "63d3079f",
    "papermill": {
     "duration": 0.011371,
     "end_time": "2022-07-09T18:46:59.364707",
     "exception": false,
     "start_time": "2022-07-09T18:46:59.353336",
     "status": "completed"
    },
    "tags": []
   },
   "source": [
    "# Preprocess"
   ]
  },
  {
   "cell_type": "markdown",
   "id": "b3fec774",
   "metadata": {
    "id": "dec9f22f",
    "papermill": {
     "duration": 0.01052,
     "end_time": "2022-07-09T18:46:59.385765",
     "exception": false,
     "start_time": "2022-07-09T18:46:59.375245",
     "status": "completed"
    },
    "tags": []
   },
   "source": [
    "`reverse_geocode` library is used to determine city information from `latitude` and `longitude`.\n",
    "\n",
    "By including this city information in the model, it is intended that `latitude` and `longitude` information is also taken into account for BERT model."
   ]
  },
  {
   "cell_type": "code",
   "execution_count": 15,
   "id": "c77daf72",
   "metadata": {
    "execution": {
     "iopub.execute_input": "2022-07-09T18:46:59.408650Z",
     "iopub.status.busy": "2022-07-09T18:46:59.407998Z",
     "iopub.status.idle": "2022-07-09T18:46:59.842359Z",
     "shell.execute_reply": "2022-07-09T18:46:59.841542Z"
    },
    "id": "59c041f8",
    "papermill": {
     "duration": 0.448074,
     "end_time": "2022-07-09T18:46:59.844435",
     "exception": false,
     "start_time": "2022-07-09T18:46:59.396361",
     "status": "completed"
    },
    "tags": []
   },
   "outputs": [],
   "source": [
    "def get_geo_info(coords):\n",
    "    data = reverse_geocode.search(coords)\n",
    "    return [v['country_code'] for v in data], [v['city'] for v in data]\n",
    "\n",
    "original_df['city2'] = get_geo_info(original_df[['latitude', 'longitude']])[1]"
   ]
  },
  {
   "cell_type": "code",
   "execution_count": 16,
   "id": "3930a2b4",
   "metadata": {
    "execution": {
     "iopub.execute_input": "2022-07-09T18:46:59.868384Z",
     "iopub.status.busy": "2022-07-09T18:46:59.868075Z",
     "iopub.status.idle": "2022-07-09T18:46:59.875439Z",
     "shell.execute_reply": "2022-07-09T18:46:59.874596Z"
    },
    "id": "b9cde7b9",
    "papermill": {
     "duration": 0.021466,
     "end_time": "2022-07-09T18:46:59.877314",
     "exception": false,
     "start_time": "2022-07-09T18:46:59.855848",
     "status": "completed"
    },
    "tags": []
   },
   "outputs": [],
   "source": [
    "original_df[\"text\"] = original_df[\"name\"].fillna(\"\") + \" \" +\\\n",
    "                        original_df[\"city2\"].fillna(\"\") + \" \" +\\\n",
    "                        original_df[\"address\"].fillna(\"\") + \" \" +\\\n",
    "                        original_df[\"categories\"].fillna(\"\")\n",
    "\n",
    "#original_df[\"text\"] = original_df[\"name\"].fillna(\"\") + \"[SEP]\" +\\\n",
    "#                        original_df[\"city2\"].fillna(\"\") + \"[SEP]\" +\\\n",
    "#                        original_df[\"address\"].fillna(\"\") + \"[SEP]\" +\\\n",
    "#                        original_df[\"categories\"].fillna(\"\")"
   ]
  },
  {
   "cell_type": "code",
   "execution_count": 17,
   "id": "041a93f9",
   "metadata": {
    "execution": {
     "iopub.execute_input": "2022-07-09T18:46:59.901259Z",
     "iopub.status.busy": "2022-07-09T18:46:59.900799Z",
     "iopub.status.idle": "2022-07-09T18:46:59.906148Z",
     "shell.execute_reply": "2022-07-09T18:46:59.905439Z"
    },
    "id": "7b0d052a",
    "papermill": {
     "duration": 0.019726,
     "end_time": "2022-07-09T18:46:59.907914",
     "exception": false,
     "start_time": "2022-07-09T18:46:59.888188",
     "status": "completed"
    },
    "tags": []
   },
   "outputs": [],
   "source": [
    "# ==============================================\n",
    "# Degree to radian\n",
    "# ==============================================\n",
    "\n",
    "original_df[\"latitude\"] = original_df[\"latitude\"] * np.pi / 180\n",
    "original_df[\"longitude\"] = original_df[\"longitude\"] * np.pi / 180"
   ]
  },
  {
   "cell_type": "markdown",
   "id": "99a946ff",
   "metadata": {
    "id": "699ff55e",
    "papermill": {
     "duration": 0.010715,
     "end_time": "2022-07-09T18:46:59.929728",
     "exception": false,
     "start_time": "2022-07-09T18:46:59.919013",
     "status": "completed"
    },
    "tags": []
   },
   "source": [
    "# Dataset"
   ]
  },
  {
   "cell_type": "code",
   "execution_count": 18,
   "id": "9e1247d5",
   "metadata": {
    "execution": {
     "iopub.execute_input": "2022-07-09T18:46:59.953265Z",
     "iopub.status.busy": "2022-07-09T18:46:59.952634Z",
     "iopub.status.idle": "2022-07-09T18:46:59.962577Z",
     "shell.execute_reply": "2022-07-09T18:46:59.961844Z"
    },
    "id": "7e45a1a5",
    "papermill": {
     "duration": 0.023685,
     "end_time": "2022-07-09T18:46:59.964244",
     "exception": false,
     "start_time": "2022-07-09T18:46:59.940559",
     "status": "completed"
    },
    "tags": []
   },
   "outputs": [],
   "source": [
    "# ====================================================\n",
    "#  Dataset\n",
    "# ====================================================\n",
    "\n",
    "class FoursquareDataset(Dataset):\n",
    "    def __init__(self, df, include_labels=True):\n",
    "        tokenizer = AutoTokenizer.from_pretrained(CFG.model)\n",
    "\n",
    "        self.df = df\n",
    "        self.include_labels = include_labels\n",
    "\n",
    "        self.text = df['text'].tolist()\n",
    "        self.lat = df['latitude'].values\n",
    "        self.lon = df['longitude'].values\n",
    "        self.labels = df['point_of_interest'].values\n",
    "\n",
    "        self.encoded = tokenizer.batch_encode_plus(\n",
    "            self.text,\n",
    "            padding = 'max_length',            \n",
    "            max_length = CFG.max_length,\n",
    "            truncation = True,\n",
    "            return_attention_mask=True\n",
    "        )\n",
    "        \n",
    "    def __len__(self):\n",
    "        return len(self.df)\n",
    "    \n",
    "    def __getitem__(self, idx):\n",
    "\n",
    "        input_ids = torch.tensor(self.encoded['input_ids'][idx], dtype=torch.long)\n",
    "        attention_mask = torch.tensor(self.encoded['attention_mask'][idx], dtype=torch.long)\n",
    "        lat = torch.tensor(self.lat[idx], dtype=torch.float)\n",
    "        lon = torch.tensor(self.lon[idx], dtype=torch.float)\n",
    "\n",
    "        if self.include_labels:\n",
    "            label = torch.tensor(self.labels[idx], dtype=torch.long)\n",
    "            return input_ids, attention_mask, lat, lon, label\n",
    "\n",
    "        return input_ids, attention_mask, lat, lon"
   ]
  },
  {
   "cell_type": "markdown",
   "id": "63491d62",
   "metadata": {
    "id": "0bb852a6",
    "papermill": {
     "duration": 0.011563,
     "end_time": "2022-07-09T18:46:59.986781",
     "exception": false,
     "start_time": "2022-07-09T18:46:59.975218",
     "status": "completed"
    },
    "tags": []
   },
   "source": [
    "# Metric Learning"
   ]
  },
  {
   "cell_type": "code",
   "execution_count": 19,
   "id": "770ede4f",
   "metadata": {
    "execution": {
     "iopub.execute_input": "2022-07-09T18:47:00.010339Z",
     "iopub.status.busy": "2022-07-09T18:47:00.010037Z",
     "iopub.status.idle": "2022-07-09T18:47:00.023143Z",
     "shell.execute_reply": "2022-07-09T18:47:00.022297Z"
    },
    "id": "edb59b62",
    "papermill": {
     "duration": 0.027247,
     "end_time": "2022-07-09T18:47:00.025013",
     "exception": false,
     "start_time": "2022-07-09T18:46:59.997766",
     "status": "completed"
    },
    "tags": []
   },
   "outputs": [],
   "source": [
    "# ====================================================\n",
    "#  CurricularFace\n",
    "# ====================================================   \n",
    "\n",
    "def l2_norm(input, axis = 1):\n",
    "    norm = torch.norm(input, 2, axis, True)\n",
    "    output = torch.div(input, norm)\n",
    "\n",
    "    return output\n",
    "\n",
    "class CurricularFace(nn.Module):\n",
    "    def __init__(self, in_features, out_features, s = 5, m = 0.050):\n",
    "        super(CurricularFace, self).__init__()\n",
    "\n",
    "        self.in_features = in_features\n",
    "        self.out_features = out_features\n",
    "        self.m = m\n",
    "        self.s = s\n",
    "        self.cos_m = math.cos(m)\n",
    "        self.sin_m = math.sin(m)\n",
    "        self.threshold = math.cos(math.pi - m)\n",
    "        self.mm = math.sin(math.pi - m) * m\n",
    "        self.kernel = nn.Parameter(torch.Tensor(in_features, out_features))\n",
    "        self.register_buffer('t', torch.zeros(1))\n",
    "        nn.init.normal_(self.kernel, std=0.01)\n",
    "\n",
    "    def forward(self, embbedings, label):\n",
    "        embbedings = l2_norm(embbedings, axis = 1)\n",
    "        kernel_norm = l2_norm(self.kernel, axis = 0)\n",
    "        cos_theta = torch.mm(embbedings, kernel_norm)\n",
    "        cos_theta = cos_theta.clamp(-1, 1)\n",
    "        with torch.no_grad():\n",
    "            origin_cos = cos_theta.clone()\n",
    "        target_logit = cos_theta[torch.arange(0, embbedings.size(0)), label].view(-1, 1)\n",
    "\n",
    "        sin_theta = torch.sqrt(1.0 - torch.pow(target_logit, 2))\n",
    "        cos_theta_m = target_logit * self.cos_m - sin_theta * self.sin_m\n",
    "        mask = cos_theta > cos_theta_m\n",
    "        final_target_logit = torch.where(target_logit > self.threshold, cos_theta_m, target_logit - self.mm)\n",
    "\n",
    "        hard_example = cos_theta[mask]\n",
    "        with torch.no_grad():\n",
    "            self.t = target_logit.mean() * 0.01 + (1 - 0.01) * self.t\n",
    "        cos_theta[mask] = hard_example * (self.t + hard_example)\n",
    "        cos_theta.scatter_(1, label.view(-1, 1).long(), final_target_logit)\n",
    "        output = cos_theta * self.s\n",
    "        return output"
   ]
  },
  {
   "cell_type": "code",
   "execution_count": 20,
   "id": "0255e3d6",
   "metadata": {
    "execution": {
     "iopub.execute_input": "2022-07-09T18:47:00.048313Z",
     "iopub.status.busy": "2022-07-09T18:47:00.048054Z",
     "iopub.status.idle": "2022-07-09T18:47:00.059266Z",
     "shell.execute_reply": "2022-07-09T18:47:00.058473Z"
    },
    "id": "d4c25274",
    "papermill": {
     "duration": 0.02522,
     "end_time": "2022-07-09T18:47:00.061046",
     "exception": false,
     "start_time": "2022-07-09T18:47:00.035826",
     "status": "completed"
    },
    "tags": []
   },
   "outputs": [],
   "source": [
    "# ====================================================\n",
    "#  ArcFace\n",
    "# ====================================================\n",
    "\n",
    "class ArcMarginProduct(nn.Module):\n",
    "    def __init__(self, in_features, out_features, s=10.0, m=0.050, easy_margin=True, ls_eps=0.0):\n",
    "        super(ArcMarginProduct, self).__init__()\n",
    "\n",
    "        self.in_features = in_features\n",
    "        self.out_features = out_features\n",
    "        self.s = s\n",
    "        self.m = m\n",
    "        self.ls_eps = ls_eps\n",
    "        self.weight = Parameter(torch.FloatTensor(out_features, in_features))\n",
    "        nn.init.xavier_uniform_(self.weight)\n",
    "\n",
    "        self.easy_margin = easy_margin\n",
    "        self.cos_m = math.cos(m)\n",
    "        self.sin_m = math.sin(m)\n",
    "        self.th = math.cos(math.pi - m)\n",
    "        self.mm = math.sin(math.pi - m) * m\n",
    "\n",
    "    def forward(self, input, label):\n",
    "        cosine = F.linear(F.normalize(input), F.normalize(self.weight))\n",
    "        sine = torch.sqrt(1.0 - torch.pow(cosine, 2))\n",
    "        phi = cosine * self.cos_m - sine * self.sin_m\n",
    "        if self.easy_margin:\n",
    "            phi = torch.where(cosine > 0, phi, cosine)\n",
    "        else:\n",
    "            phi = torch.where(cosine > self.th, phi, cosine - self.mm)\n",
    "        one_hot = torch.zeros(cosine.size(), device=device)\n",
    "        one_hot.scatter_(1, label.view(-1, 1).long(), 1)\n",
    "        if self.ls_eps > 0:\n",
    "            one_hot = (1 - self.ls_eps) * one_hot + self.ls_eps / self.out_features\n",
    "        output = (one_hot * phi) + ((1.0 - one_hot) * cosine)\n",
    "        output *= self.s\n",
    "\n",
    "        return output"
   ]
  },
  {
   "cell_type": "markdown",
   "id": "a2a792d7",
   "metadata": {
    "id": "8c2623dc",
    "papermill": {
     "duration": 0.010488,
     "end_time": "2022-07-09T18:47:00.082122",
     "exception": false,
     "start_time": "2022-07-09T18:47:00.071634",
     "status": "completed"
    },
    "tags": []
   },
   "source": [
    "# Loss"
   ]
  },
  {
   "cell_type": "code",
   "execution_count": 21,
   "id": "b63d84e2",
   "metadata": {
    "execution": {
     "iopub.execute_input": "2022-07-09T18:47:00.105113Z",
     "iopub.status.busy": "2022-07-09T18:47:00.104811Z",
     "iopub.status.idle": "2022-07-09T18:47:00.112059Z",
     "shell.execute_reply": "2022-07-09T18:47:00.111388Z"
    },
    "id": "00337d45",
    "papermill": {
     "duration": 0.021095,
     "end_time": "2022-07-09T18:47:00.113932",
     "exception": false,
     "start_time": "2022-07-09T18:47:00.092837",
     "status": "completed"
    },
    "tags": []
   },
   "outputs": [],
   "source": [
    "# ====================================================\n",
    "#  Focal Loss\n",
    "# ====================================================    \n",
    "\n",
    "class FocalLoss(nn.Module):\n",
    "    def __init__(self, weight=None, size_average=True):\n",
    "        super(FocalLoss, self).__init__()\n",
    "\n",
    "    def forward(self, inputs, targets, alpha=0.8, gamma=2, smooth=1):\n",
    "        \n",
    "        inputs = F.sigmoid(inputs)       \n",
    "        \n",
    "        inputs = inputs.view(-1)\n",
    "        targets = targets.view(-1)\n",
    "        \n",
    "        BCE = F.binary_cross_entropy(inputs, targets, reduction='mean')\n",
    "        BCE_EXP = torch.exp(-BCE)\n",
    "        focal_loss = alpha * (1-BCE_EXP)**gamma * BCE\n",
    "                       \n",
    "        return focal_loss"
   ]
  },
  {
   "cell_type": "markdown",
   "id": "ba45b458",
   "metadata": {
    "id": "01491cb7",
    "papermill": {
     "duration": 0.010787,
     "end_time": "2022-07-09T18:47:00.136137",
     "exception": false,
     "start_time": "2022-07-09T18:47:00.125350",
     "status": "completed"
    },
    "tags": []
   },
   "source": [
    "# Model"
   ]
  },
  {
   "cell_type": "code",
   "execution_count": 22,
   "id": "e676d773",
   "metadata": {
    "execution": {
     "iopub.execute_input": "2022-07-09T18:47:00.158929Z",
     "iopub.status.busy": "2022-07-09T18:47:00.158683Z",
     "iopub.status.idle": "2022-07-09T18:47:14.075436Z",
     "shell.execute_reply": "2022-07-09T18:47:14.074574Z"
    },
    "id": "4ac89dbd",
    "outputId": "1102042d-1d3e-4b40-d214-5544accdc5a1",
    "papermill": {
     "duration": 13.931427,
     "end_time": "2022-07-09T18:47:14.078340",
     "exception": false,
     "start_time": "2022-07-09T18:47:00.146913",
     "status": "completed"
    },
    "tags": []
   },
   "outputs": [
    {
     "name": "stdout",
     "output_type": "stream",
     "text": [
      "CustomModel(\n",
      "  (model): XLMRobertaModel(\n",
      "    (embeddings): RobertaEmbeddings(\n",
      "      (word_embeddings): Embedding(250002, 768, padding_idx=1)\n",
      "      (position_embeddings): Embedding(514, 768, padding_idx=1)\n",
      "      (token_type_embeddings): Embedding(1, 768)\n",
      "      (LayerNorm): LayerNorm((768,), eps=1e-05, elementwise_affine=True)\n",
      "      (dropout): Dropout(p=0.1, inplace=False)\n",
      "    )\n",
      "    (encoder): RobertaEncoder(\n",
      "      (layer): ModuleList(\n",
      "        (0): RobertaLayer(\n",
      "          (attention): RobertaAttention(\n",
      "            (self): RobertaSelfAttention(\n",
      "              (query): Linear(in_features=768, out_features=768, bias=True)\n",
      "              (key): Linear(in_features=768, out_features=768, bias=True)\n",
      "              (value): Linear(in_features=768, out_features=768, bias=True)\n",
      "              (dropout): Dropout(p=0.1, inplace=False)\n",
      "            )\n",
      "            (output): RobertaSelfOutput(\n",
      "              (dense): Linear(in_features=768, out_features=768, bias=True)\n",
      "              (LayerNorm): LayerNorm((768,), eps=1e-05, elementwise_affine=True)\n",
      "              (dropout): Dropout(p=0.1, inplace=False)\n",
      "            )\n",
      "          )\n",
      "          (intermediate): RobertaIntermediate(\n",
      "            (dense): Linear(in_features=768, out_features=3072, bias=True)\n",
      "            (intermediate_act_fn): GELUActivation()\n",
      "          )\n",
      "          (output): RobertaOutput(\n",
      "            (dense): Linear(in_features=3072, out_features=768, bias=True)\n",
      "            (LayerNorm): LayerNorm((768,), eps=1e-05, elementwise_affine=True)\n",
      "            (dropout): Dropout(p=0.1, inplace=False)\n",
      "          )\n",
      "        )\n",
      "        (1): RobertaLayer(\n",
      "          (attention): RobertaAttention(\n",
      "            (self): RobertaSelfAttention(\n",
      "              (query): Linear(in_features=768, out_features=768, bias=True)\n",
      "              (key): Linear(in_features=768, out_features=768, bias=True)\n",
      "              (value): Linear(in_features=768, out_features=768, bias=True)\n",
      "              (dropout): Dropout(p=0.1, inplace=False)\n",
      "            )\n",
      "            (output): RobertaSelfOutput(\n",
      "              (dense): Linear(in_features=768, out_features=768, bias=True)\n",
      "              (LayerNorm): LayerNorm((768,), eps=1e-05, elementwise_affine=True)\n",
      "              (dropout): Dropout(p=0.1, inplace=False)\n",
      "            )\n",
      "          )\n",
      "          (intermediate): RobertaIntermediate(\n",
      "            (dense): Linear(in_features=768, out_features=3072, bias=True)\n",
      "            (intermediate_act_fn): GELUActivation()\n",
      "          )\n",
      "          (output): RobertaOutput(\n",
      "            (dense): Linear(in_features=3072, out_features=768, bias=True)\n",
      "            (LayerNorm): LayerNorm((768,), eps=1e-05, elementwise_affine=True)\n",
      "            (dropout): Dropout(p=0.1, inplace=False)\n",
      "          )\n",
      "        )\n",
      "        (2): RobertaLayer(\n",
      "          (attention): RobertaAttention(\n",
      "            (self): RobertaSelfAttention(\n",
      "              (query): Linear(in_features=768, out_features=768, bias=True)\n",
      "              (key): Linear(in_features=768, out_features=768, bias=True)\n",
      "              (value): Linear(in_features=768, out_features=768, bias=True)\n",
      "              (dropout): Dropout(p=0.1, inplace=False)\n",
      "            )\n",
      "            (output): RobertaSelfOutput(\n",
      "              (dense): Linear(in_features=768, out_features=768, bias=True)\n",
      "              (LayerNorm): LayerNorm((768,), eps=1e-05, elementwise_affine=True)\n",
      "              (dropout): Dropout(p=0.1, inplace=False)\n",
      "            )\n",
      "          )\n",
      "          (intermediate): RobertaIntermediate(\n",
      "            (dense): Linear(in_features=768, out_features=3072, bias=True)\n",
      "            (intermediate_act_fn): GELUActivation()\n",
      "          )\n",
      "          (output): RobertaOutput(\n",
      "            (dense): Linear(in_features=3072, out_features=768, bias=True)\n",
      "            (LayerNorm): LayerNorm((768,), eps=1e-05, elementwise_affine=True)\n",
      "            (dropout): Dropout(p=0.1, inplace=False)\n",
      "          )\n",
      "        )\n",
      "        (3): RobertaLayer(\n",
      "          (attention): RobertaAttention(\n",
      "            (self): RobertaSelfAttention(\n",
      "              (query): Linear(in_features=768, out_features=768, bias=True)\n",
      "              (key): Linear(in_features=768, out_features=768, bias=True)\n",
      "              (value): Linear(in_features=768, out_features=768, bias=True)\n",
      "              (dropout): Dropout(p=0.1, inplace=False)\n",
      "            )\n",
      "            (output): RobertaSelfOutput(\n",
      "              (dense): Linear(in_features=768, out_features=768, bias=True)\n",
      "              (LayerNorm): LayerNorm((768,), eps=1e-05, elementwise_affine=True)\n",
      "              (dropout): Dropout(p=0.1, inplace=False)\n",
      "            )\n",
      "          )\n",
      "          (intermediate): RobertaIntermediate(\n",
      "            (dense): Linear(in_features=768, out_features=3072, bias=True)\n",
      "            (intermediate_act_fn): GELUActivation()\n",
      "          )\n",
      "          (output): RobertaOutput(\n",
      "            (dense): Linear(in_features=3072, out_features=768, bias=True)\n",
      "            (LayerNorm): LayerNorm((768,), eps=1e-05, elementwise_affine=True)\n",
      "            (dropout): Dropout(p=0.1, inplace=False)\n",
      "          )\n",
      "        )\n",
      "        (4): RobertaLayer(\n",
      "          (attention): RobertaAttention(\n",
      "            (self): RobertaSelfAttention(\n",
      "              (query): Linear(in_features=768, out_features=768, bias=True)\n",
      "              (key): Linear(in_features=768, out_features=768, bias=True)\n",
      "              (value): Linear(in_features=768, out_features=768, bias=True)\n",
      "              (dropout): Dropout(p=0.1, inplace=False)\n",
      "            )\n",
      "            (output): RobertaSelfOutput(\n",
      "              (dense): Linear(in_features=768, out_features=768, bias=True)\n",
      "              (LayerNorm): LayerNorm((768,), eps=1e-05, elementwise_affine=True)\n",
      "              (dropout): Dropout(p=0.1, inplace=False)\n",
      "            )\n",
      "          )\n",
      "          (intermediate): RobertaIntermediate(\n",
      "            (dense): Linear(in_features=768, out_features=3072, bias=True)\n",
      "            (intermediate_act_fn): GELUActivation()\n",
      "          )\n",
      "          (output): RobertaOutput(\n",
      "            (dense): Linear(in_features=3072, out_features=768, bias=True)\n",
      "            (LayerNorm): LayerNorm((768,), eps=1e-05, elementwise_affine=True)\n",
      "            (dropout): Dropout(p=0.1, inplace=False)\n",
      "          )\n",
      "        )\n",
      "        (5): RobertaLayer(\n",
      "          (attention): RobertaAttention(\n",
      "            (self): RobertaSelfAttention(\n",
      "              (query): Linear(in_features=768, out_features=768, bias=True)\n",
      "              (key): Linear(in_features=768, out_features=768, bias=True)\n",
      "              (value): Linear(in_features=768, out_features=768, bias=True)\n",
      "              (dropout): Dropout(p=0.1, inplace=False)\n",
      "            )\n",
      "            (output): RobertaSelfOutput(\n",
      "              (dense): Linear(in_features=768, out_features=768, bias=True)\n",
      "              (LayerNorm): LayerNorm((768,), eps=1e-05, elementwise_affine=True)\n",
      "              (dropout): Dropout(p=0.1, inplace=False)\n",
      "            )\n",
      "          )\n",
      "          (intermediate): RobertaIntermediate(\n",
      "            (dense): Linear(in_features=768, out_features=3072, bias=True)\n",
      "            (intermediate_act_fn): GELUActivation()\n",
      "          )\n",
      "          (output): RobertaOutput(\n",
      "            (dense): Linear(in_features=3072, out_features=768, bias=True)\n",
      "            (LayerNorm): LayerNorm((768,), eps=1e-05, elementwise_affine=True)\n",
      "            (dropout): Dropout(p=0.1, inplace=False)\n",
      "          )\n",
      "        )\n",
      "        (6): RobertaLayer(\n",
      "          (attention): RobertaAttention(\n",
      "            (self): RobertaSelfAttention(\n",
      "              (query): Linear(in_features=768, out_features=768, bias=True)\n",
      "              (key): Linear(in_features=768, out_features=768, bias=True)\n",
      "              (value): Linear(in_features=768, out_features=768, bias=True)\n",
      "              (dropout): Dropout(p=0.1, inplace=False)\n",
      "            )\n",
      "            (output): RobertaSelfOutput(\n",
      "              (dense): Linear(in_features=768, out_features=768, bias=True)\n",
      "              (LayerNorm): LayerNorm((768,), eps=1e-05, elementwise_affine=True)\n",
      "              (dropout): Dropout(p=0.1, inplace=False)\n",
      "            )\n",
      "          )\n",
      "          (intermediate): RobertaIntermediate(\n",
      "            (dense): Linear(in_features=768, out_features=3072, bias=True)\n",
      "            (intermediate_act_fn): GELUActivation()\n",
      "          )\n",
      "          (output): RobertaOutput(\n",
      "            (dense): Linear(in_features=3072, out_features=768, bias=True)\n",
      "            (LayerNorm): LayerNorm((768,), eps=1e-05, elementwise_affine=True)\n",
      "            (dropout): Dropout(p=0.1, inplace=False)\n",
      "          )\n",
      "        )\n",
      "        (7): RobertaLayer(\n",
      "          (attention): RobertaAttention(\n",
      "            (self): RobertaSelfAttention(\n",
      "              (query): Linear(in_features=768, out_features=768, bias=True)\n",
      "              (key): Linear(in_features=768, out_features=768, bias=True)\n",
      "              (value): Linear(in_features=768, out_features=768, bias=True)\n",
      "              (dropout): Dropout(p=0.1, inplace=False)\n",
      "            )\n",
      "            (output): RobertaSelfOutput(\n",
      "              (dense): Linear(in_features=768, out_features=768, bias=True)\n",
      "              (LayerNorm): LayerNorm((768,), eps=1e-05, elementwise_affine=True)\n",
      "              (dropout): Dropout(p=0.1, inplace=False)\n",
      "            )\n",
      "          )\n",
      "          (intermediate): RobertaIntermediate(\n",
      "            (dense): Linear(in_features=768, out_features=3072, bias=True)\n",
      "            (intermediate_act_fn): GELUActivation()\n",
      "          )\n",
      "          (output): RobertaOutput(\n",
      "            (dense): Linear(in_features=3072, out_features=768, bias=True)\n",
      "            (LayerNorm): LayerNorm((768,), eps=1e-05, elementwise_affine=True)\n",
      "            (dropout): Dropout(p=0.1, inplace=False)\n",
      "          )\n",
      "        )\n",
      "        (8): RobertaLayer(\n",
      "          (attention): RobertaAttention(\n",
      "            (self): RobertaSelfAttention(\n",
      "              (query): Linear(in_features=768, out_features=768, bias=True)\n",
      "              (key): Linear(in_features=768, out_features=768, bias=True)\n",
      "              (value): Linear(in_features=768, out_features=768, bias=True)\n",
      "              (dropout): Dropout(p=0.1, inplace=False)\n",
      "            )\n",
      "            (output): RobertaSelfOutput(\n",
      "              (dense): Linear(in_features=768, out_features=768, bias=True)\n",
      "              (LayerNorm): LayerNorm((768,), eps=1e-05, elementwise_affine=True)\n",
      "              (dropout): Dropout(p=0.1, inplace=False)\n",
      "            )\n",
      "          )\n",
      "          (intermediate): RobertaIntermediate(\n",
      "            (dense): Linear(in_features=768, out_features=3072, bias=True)\n",
      "            (intermediate_act_fn): GELUActivation()\n",
      "          )\n",
      "          (output): RobertaOutput(\n",
      "            (dense): Linear(in_features=3072, out_features=768, bias=True)\n",
      "            (LayerNorm): LayerNorm((768,), eps=1e-05, elementwise_affine=True)\n",
      "            (dropout): Dropout(p=0.1, inplace=False)\n",
      "          )\n",
      "        )\n",
      "        (9): RobertaLayer(\n",
      "          (attention): RobertaAttention(\n",
      "            (self): RobertaSelfAttention(\n",
      "              (query): Linear(in_features=768, out_features=768, bias=True)\n",
      "              (key): Linear(in_features=768, out_features=768, bias=True)\n",
      "              (value): Linear(in_features=768, out_features=768, bias=True)\n",
      "              (dropout): Dropout(p=0.1, inplace=False)\n",
      "            )\n",
      "            (output): RobertaSelfOutput(\n",
      "              (dense): Linear(in_features=768, out_features=768, bias=True)\n",
      "              (LayerNorm): LayerNorm((768,), eps=1e-05, elementwise_affine=True)\n",
      "              (dropout): Dropout(p=0.1, inplace=False)\n",
      "            )\n",
      "          )\n",
      "          (intermediate): RobertaIntermediate(\n",
      "            (dense): Linear(in_features=768, out_features=3072, bias=True)\n",
      "            (intermediate_act_fn): GELUActivation()\n",
      "          )\n",
      "          (output): RobertaOutput(\n",
      "            (dense): Linear(in_features=3072, out_features=768, bias=True)\n",
      "            (LayerNorm): LayerNorm((768,), eps=1e-05, elementwise_affine=True)\n",
      "            (dropout): Dropout(p=0.1, inplace=False)\n",
      "          )\n",
      "        )\n",
      "        (10): RobertaLayer(\n",
      "          (attention): RobertaAttention(\n",
      "            (self): RobertaSelfAttention(\n",
      "              (query): Linear(in_features=768, out_features=768, bias=True)\n",
      "              (key): Linear(in_features=768, out_features=768, bias=True)\n",
      "              (value): Linear(in_features=768, out_features=768, bias=True)\n",
      "              (dropout): Dropout(p=0.1, inplace=False)\n",
      "            )\n",
      "            (output): RobertaSelfOutput(\n",
      "              (dense): Linear(in_features=768, out_features=768, bias=True)\n",
      "              (LayerNorm): LayerNorm((768,), eps=1e-05, elementwise_affine=True)\n",
      "              (dropout): Dropout(p=0.1, inplace=False)\n",
      "            )\n",
      "          )\n",
      "          (intermediate): RobertaIntermediate(\n",
      "            (dense): Linear(in_features=768, out_features=3072, bias=True)\n",
      "            (intermediate_act_fn): GELUActivation()\n",
      "          )\n",
      "          (output): RobertaOutput(\n",
      "            (dense): Linear(in_features=3072, out_features=768, bias=True)\n",
      "            (LayerNorm): LayerNorm((768,), eps=1e-05, elementwise_affine=True)\n",
      "            (dropout): Dropout(p=0.1, inplace=False)\n",
      "          )\n",
      "        )\n",
      "        (11): RobertaLayer(\n",
      "          (attention): RobertaAttention(\n",
      "            (self): RobertaSelfAttention(\n",
      "              (query): Linear(in_features=768, out_features=768, bias=True)\n",
      "              (key): Linear(in_features=768, out_features=768, bias=True)\n",
      "              (value): Linear(in_features=768, out_features=768, bias=True)\n",
      "              (dropout): Dropout(p=0.1, inplace=False)\n",
      "            )\n",
      "            (output): RobertaSelfOutput(\n",
      "              (dense): Linear(in_features=768, out_features=768, bias=True)\n",
      "              (LayerNorm): LayerNorm((768,), eps=1e-05, elementwise_affine=True)\n",
      "              (dropout): Dropout(p=0.1, inplace=False)\n",
      "            )\n",
      "          )\n",
      "          (intermediate): RobertaIntermediate(\n",
      "            (dense): Linear(in_features=768, out_features=3072, bias=True)\n",
      "            (intermediate_act_fn): GELUActivation()\n",
      "          )\n",
      "          (output): RobertaOutput(\n",
      "            (dense): Linear(in_features=3072, out_features=768, bias=True)\n",
      "            (LayerNorm): LayerNorm((768,), eps=1e-05, elementwise_affine=True)\n",
      "            (dropout): Dropout(p=0.1, inplace=False)\n",
      "          )\n",
      "        )\n",
      "      )\n",
      "    )\n",
      "    (pooler): RobertaPooler(\n",
      "      (dense): Linear(in_features=768, out_features=768, bias=True)\n",
      "      (activation): Tanh()\n",
      "    )\n",
      "  )\n",
      "  (fc): CurricularFace()\n",
      "  (head): Sequential(\n",
      "    (0): Linear(in_features=770, out_features=128, bias=True)\n",
      "    (1): BatchNorm1d(128, eps=1e-05, momentum=0.1, affine=True, track_running_stats=True)\n",
      "  )\n",
      ")\n"
     ]
    }
   ],
   "source": [
    "# ====================================================\n",
    "#  Model\n",
    "# ==================================================== \n",
    "\n",
    "class CustomModel(nn.Module):\n",
    "    def __init__(self, model_name, embedding_size=128):                 \n",
    "        super(CustomModel, self).__init__()\n",
    "\n",
    "        self.config = AutoConfig.from_pretrained(model_name)\n",
    "        self.model = AutoModel.from_pretrained(model_name, \n",
    "                                               config=self.config)\n",
    "        #self.fc = ArcMarginProduct(embedding_size, n_classes)\n",
    "        self.fc = CurricularFace(embedding_size, 739972)\n",
    "        self.head = nn.Sequential(\n",
    "            nn.Linear(self.config.hidden_size + 2, embedding_size),\n",
    "            nn.BatchNorm1d(embedding_size),\n",
    "        )\n",
    "\n",
    "    def forward(self, ids, mask, lat, lon, labels):\n",
    "        embedding = self.extract(ids=ids, mask=mask, lat=lat, lon=lon)\n",
    "        output = self.fc(embedding, labels)\n",
    "        return output\n",
    "    \n",
    "    def extract(self, ids, mask, lat, lon):\n",
    "        lat, lon = lat.view(-1, 1), lon.view(-1, 1)\n",
    "        out = self.model(input_ids=ids, attention_mask=mask)\n",
    "        embedding = out[0][:, 0, :] # CLS Token\n",
    "        embedding = torch.cat([embedding, lat, lon], axis=1)\n",
    "        embedding = self.head(embedding)\n",
    "        return embedding\n",
    "    \n",
    "print(CustomModel(CFG.model))"
   ]
  },
  {
   "cell_type": "markdown",
   "id": "6cdb414d",
   "metadata": {
    "id": "da91323f",
    "papermill": {
     "duration": 0.011552,
     "end_time": "2022-07-09T18:47:14.103901",
     "exception": false,
     "start_time": "2022-07-09T18:47:14.092349",
     "status": "completed"
    },
    "tags": []
   },
   "source": [
    "# Helper functions"
   ]
  },
  {
   "cell_type": "code",
   "execution_count": 23,
   "id": "aeed5d23",
   "metadata": {
    "execution": {
     "iopub.execute_input": "2022-07-09T18:47:14.128997Z",
     "iopub.status.busy": "2022-07-09T18:47:14.128404Z",
     "iopub.status.idle": "2022-07-09T18:47:14.133003Z",
     "shell.execute_reply": "2022-07-09T18:47:14.132183Z"
    },
    "id": "72ef6f3d",
    "papermill": {
     "duration": 0.018961,
     "end_time": "2022-07-09T18:47:14.134892",
     "exception": false,
     "start_time": "2022-07-09T18:47:14.115931",
     "status": "completed"
    },
    "tags": []
   },
   "outputs": [],
   "source": [
    "def get_accuracy(preds, targets):\n",
    "    preds = preds.argmax(dim=1)\n",
    "    acc = (preds == targets).float().mean()\n",
    "    return acc"
   ]
  },
  {
   "cell_type": "code",
   "execution_count": 24,
   "id": "d78c01ca",
   "metadata": {
    "execution": {
     "iopub.execute_input": "2022-07-09T18:47:14.159370Z",
     "iopub.status.busy": "2022-07-09T18:47:14.159090Z",
     "iopub.status.idle": "2022-07-09T18:47:14.171030Z",
     "shell.execute_reply": "2022-07-09T18:47:14.170229Z"
    },
    "id": "a99c010e",
    "papermill": {
     "duration": 0.026494,
     "end_time": "2022-07-09T18:47:14.172900",
     "exception": false,
     "start_time": "2022-07-09T18:47:14.146406",
     "status": "completed"
    },
    "tags": []
   },
   "outputs": [],
   "source": [
    "def train_fn(train_loader, model, criterion, optimizer, epoch, scheduler, device):\n",
    "    \n",
    "    start = end = time.time()\n",
    "    losses = AverageMeter()\n",
    "    scores = AverageMeter()\n",
    "\n",
    "    model.train()\n",
    "\n",
    "    for step, (input_ids, attention_mask, lat, lon, label) in enumerate(train_loader):\n",
    "        input_ids = input_ids.to(device, dtype=torch.long)\n",
    "        attention_mask = attention_mask.to(device, dtype=torch.long)\n",
    "        lat = lat.to(device)\n",
    "        lon = lon.to(device)\n",
    "        label = label.to(device, dtype=torch.long)\n",
    "\n",
    "        batch_size = label.size(0)\n",
    "\n",
    "        output = model(input_ids, attention_mask, lat, lon, label)\n",
    "        loss = criterion(output, label)\n",
    "\n",
    "        # record loss\n",
    "        losses.update(loss.item(), batch_size)\n",
    "        loss.backward()\n",
    "\n",
    "        optimizer.step()\n",
    "        optimizer.zero_grad()\n",
    "\n",
    "        # score\n",
    "        score = get_accuracy(output.detach(), label)\n",
    "        scores.update(score.item(), batch_size)\n",
    "\n",
    "        # step\n",
    "        scheduler.step()\n",
    "                \n",
    "        if CFG.scheduler=='ReduceLROnPlateau':\n",
    "            lr = optimizer.param_groups[0]['lr']\n",
    "        else:\n",
    "            lr = scheduler.get_lr()[0]\n",
    "\n",
    "        if step % 1000 == 0 or step == (len(train_loader) - 1):\n",
    "            LOGGER.info(\n",
    "                f\"Epoch: [{epoch + 1}][{step}/{len(train_loader)}] \"\n",
    "                f\"Elapsed {timeSince(start, float(step + 1) / len(train_loader)):s} \"\n",
    "                f\"Loss: {losses.avg:.6f} \"\n",
    "                f\"Score: {scores.avg:.6f} \"\n",
    "                f\"LR: {lr:.8f} \"\n",
    "            )\n",
    "\n",
    "    return losses.avg"
   ]
  },
  {
   "cell_type": "code",
   "execution_count": 25,
   "id": "59156e25",
   "metadata": {
    "execution": {
     "iopub.execute_input": "2022-07-09T18:47:14.197442Z",
     "iopub.status.busy": "2022-07-09T18:47:14.197170Z",
     "iopub.status.idle": "2022-07-09T18:47:14.205063Z",
     "shell.execute_reply": "2022-07-09T18:47:14.204326Z"
    },
    "id": "4359af1e",
    "papermill": {
     "duration": 0.022149,
     "end_time": "2022-07-09T18:47:14.206714",
     "exception": false,
     "start_time": "2022-07-09T18:47:14.184565",
     "status": "completed"
    },
    "tags": []
   },
   "outputs": [],
   "source": [
    "# ====================================================\n",
    "# helper function\n",
    "# ====================================================\n",
    "\n",
    "class AverageMeter(object):\n",
    "    \"\"\"Computes and stores the average and current value\"\"\"\n",
    "\n",
    "    def __init__(self):\n",
    "        self.reset()\n",
    "\n",
    "    def reset(self):\n",
    "        self.val = 0\n",
    "        self.avg = 0\n",
    "        self.sum = 0\n",
    "        self.count = 0\n",
    "\n",
    "    def update(self, val, n=1):\n",
    "        self.val = val\n",
    "        self.sum += val * n\n",
    "        self.count += n\n",
    "        self.avg = self.sum / self.count\n",
    "\n",
    "def asMinutes(s):\n",
    "    m = math.floor(s / 60)\n",
    "    s -= m * 60\n",
    "    return \"%dm %ds\" % (m, s)\n",
    "\n",
    "\n",
    "def timeSince(since, percent):\n",
    "    now = time.time()\n",
    "    s = now - since\n",
    "    es = s / (percent)\n",
    "    rs = es - s\n",
    "    return \"%s (remain %s)\" % (asMinutes(s), asMinutes(rs))"
   ]
  },
  {
   "cell_type": "code",
   "execution_count": 26,
   "id": "7ba07b3b",
   "metadata": {
    "execution": {
     "iopub.execute_input": "2022-07-09T18:47:14.230378Z",
     "iopub.status.busy": "2022-07-09T18:47:14.230135Z",
     "iopub.status.idle": "2022-07-09T18:47:14.299522Z",
     "shell.execute_reply": "2022-07-09T18:47:14.298758Z"
    },
    "id": "d2c2ee75",
    "papermill": {
     "duration": 0.083275,
     "end_time": "2022-07-09T18:47:14.301168",
     "exception": false,
     "start_time": "2022-07-09T18:47:14.217893",
     "status": "completed"
    },
    "tags": []
   },
   "outputs": [],
   "source": [
    "def run(train):\n",
    "\n",
    "    LOGGER.info(f\"==============================================\")\n",
    "    LOGGER.info(f\"▶︎ Start Training\")\n",
    "    LOGGER.info(f\"==============================================\")\n",
    "\n",
    "    # ====================================================\n",
    "    #  Data Loader\n",
    "    # ====================================================\n",
    "\n",
    "    train_dataset = FoursquareDataset(train)\n",
    "\n",
    "    train_loader = DataLoader(\n",
    "        train_dataset,\n",
    "        batch_size=CFG.batch_size,\n",
    "        shuffle=True,\n",
    "        num_workers=CFG.num_workers,\n",
    "        pin_memory=True,\n",
    "        drop_last=False,\n",
    "        worker_init_fn=seed_worker,\n",
    "        generator=g\n",
    "    )\n",
    "\n",
    "    # ====================================================\n",
    "    #  Model\n",
    "    # ====================================================\n",
    "    model = CustomModel(CFG.model)\n",
    "    model.to(device)\n",
    "\n",
    "    optimizer = AdamW(model.parameters(), lr=CFG.lr)\n",
    "    num_train_steps = len(train_loader)* CFG.epochs\n",
    "\n",
    "    def get_scheduler(optimizer):\n",
    "        if CFG.scheduler=='linear':\n",
    "            scheduler = get_linear_schedule_with_warmup(\n",
    "                optimizer, num_warmup_steps=num_train_steps*0.05, num_training_steps=num_train_steps\n",
    "            )\n",
    "        elif CFG.scheduler=='cosine':\n",
    "            scheduler = get_cosine_schedule_with_warmup(\n",
    "                optimizer, num_warmup_steps=CFG.num_warmup_steps, num_training_steps=num_train_steps, num_cycles=CFG.num_cycles\n",
    "            )\n",
    "        elif CFG.scheduler=='ReduceLROnPlateau':\n",
    "            scheduler = ReduceLROnPlateau(optimizer, mode='min', factor=CFG.factor, patience=CFG.patience, verbose=True, eps=CFG.eps)\n",
    "        elif CFG.scheduler=='CosineAnnealingLR':\n",
    "            scheduler = CosineAnnealingLR(optimizer, T_max=CFG.T_max, eta_min=CFG.min_lr, last_epoch=-1)\n",
    "        elif CFG.scheduler=='CosineAnnealingWarmRestarts':\n",
    "            scheduler = CosineAnnealingWarmRestarts(optimizer, T_0=CFG.T_0, T_mult=CFG.T_mult, eta_min=CFG.min_lr, last_epoch=-1)\n",
    "        elif CFG.scheduler=='CosineAnnealingWarmupRestarts':\n",
    "            scheduler = CosineAnnealingWarmupRestarts(optimizer, first_cycle_steps=CFG.first_cycle_steps, cycle_mult=CFG.cycle_mult, max_lr=CFG.lr, min_lr=CFG.min_lr, gamma=CFG.gamma, last_epoch=-1)\n",
    "        return scheduler\n",
    "\n",
    "    scheduler = get_scheduler(optimizer)\n",
    "\n",
    "    criterion = nn.CrossEntropyLoss()\n",
    "\n",
    "    # ====================================================\n",
    "    #  Loop\n",
    "    # ====================================================\n",
    "\n",
    "    for epoch in range(CFG.epochs):\n",
    "        start_time = time.time()\n",
    "        \n",
    "        # train\n",
    "        avg_loss = train_fn(train_loader, model, criterion, optimizer, epoch, scheduler, device)\n",
    "\n",
    "        elapsed = time.time() - start_time\n",
    "        LOGGER.info(\n",
    "            f\"Epoch {epoch+1} - avg_train_loss: {avg_loss:.6f} time: {elapsed:.0f}s\"\n",
    "        )\n",
    "\n",
    "        # Save model\n",
    "        torch.save(\n",
    "            model.state_dict(), OUTPUT_DIR + f\"bert_epoch{epoch+1}.pth\"\n",
    "        )\n",
    "\n",
    "        # ====================================================\n",
    "        #  Judge if the best score or not\n",
    "        # ====================================================\n",
    "        best_loss = np.inf\n",
    "\n",
    "        if avg_loss < best_loss:\n",
    "            best_loss = avg_loss\n",
    "            LOGGER.info(f\"Epoch {epoch+1} - Best Loss Model\")\n",
    "    \n",
    "    # ==============================================\n",
    "    # Create Kaggle Dataset\n",
    "    # ==============================================\n",
    "\n",
    "    !kaggle datasets init -p $OUTPUT_DIR\n",
    "\n",
    "    metadata = {\"id\": f\"shkanda/foursquare-stage1-exp{CFG.exp}\",\n",
    "                    \"title\": f\"foursquare-stage1-exp{CFG.exp}\",\n",
    "                    \"licenses\": [{\"name\": \"CC0-1.0\"}]}\n",
    "\n",
    "    with open(OUTPUT_DIR+'dataset-metadata.json', 'w') as fp:\n",
    "        json.dump(metadata, fp)\n",
    "\n",
    "    !kaggle datasets create -p $OUTPUT_DIR"
   ]
  },
  {
   "cell_type": "markdown",
   "id": "b7412317",
   "metadata": {
    "id": "98318f53",
    "papermill": {
     "duration": 0.010891,
     "end_time": "2022-07-09T18:47:14.324253",
     "exception": false,
     "start_time": "2022-07-09T18:47:14.313362",
     "status": "completed"
    },
    "tags": []
   },
   "source": [
    "# Train"
   ]
  },
  {
   "cell_type": "code",
   "execution_count": 27,
   "id": "663c32c2",
   "metadata": {
    "execution": {
     "iopub.execute_input": "2022-07-09T18:47:14.348401Z",
     "iopub.status.busy": "2022-07-09T18:47:14.348132Z",
     "iopub.status.idle": "2022-07-09T18:47:14.351676Z",
     "shell.execute_reply": "2022-07-09T18:47:14.350949Z"
    },
    "id": "d915bd2e",
    "outputId": "18dc049c-8408-46d1-f58d-2486369ded25",
    "papermill": {
     "duration": 0.017677,
     "end_time": "2022-07-09T18:47:14.353280",
     "exception": false,
     "start_time": "2022-07-09T18:47:14.335603",
     "status": "completed"
    },
    "tags": []
   },
   "outputs": [],
   "source": [
    "if CFG.train:\n",
    "    run(original_df)"
   ]
  },
  {
   "cell_type": "markdown",
   "id": "e6c42f84",
   "metadata": {
    "id": "50f6ae5a",
    "papermill": {
     "duration": 0.011117,
     "end_time": "2022-07-09T18:47:14.375725",
     "exception": false,
     "start_time": "2022-07-09T18:47:14.364608",
     "status": "completed"
    },
    "tags": []
   },
   "source": [
    "# Inference"
   ]
  },
  {
   "cell_type": "code",
   "execution_count": 28,
   "id": "84b5cc36",
   "metadata": {
    "execution": {
     "iopub.execute_input": "2022-07-09T18:47:14.399979Z",
     "iopub.status.busy": "2022-07-09T18:47:14.399376Z",
     "iopub.status.idle": "2022-07-09T18:47:14.407610Z",
     "shell.execute_reply": "2022-07-09T18:47:14.406902Z"
    },
    "id": "ddb48ecf",
    "papermill": {
     "duration": 0.021694,
     "end_time": "2022-07-09T18:47:14.409204",
     "exception": false,
     "start_time": "2022-07-09T18:47:14.387510",
     "status": "completed"
    },
    "tags": []
   },
   "outputs": [],
   "source": [
    "def inference_fn(test):\n",
    "\n",
    "    test_dataset = FoursquareDataset(test, include_labels=False)\n",
    "\n",
    "    test_loader = DataLoader(\n",
    "        test_dataset,\n",
    "        batch_size=CFG.batch_size,\n",
    "        shuffle=False,\n",
    "        num_workers=CFG.num_workers,\n",
    "        pin_memory=True,\n",
    "        drop_last=False,\n",
    "        worker_init_fn=seed_worker,\n",
    "        generator=g\n",
    "    )\n",
    "\n",
    "    model = CustomModel(CFG.model)\n",
    "    path = MODEL_DIR + \"bert_epoch15.pth\"\n",
    "    state = torch.load(path, map_location=torch.device('cpu'))\n",
    "    model.load_state_dict(state)\n",
    "    model.to(device)\n",
    "    model.eval()\n",
    "\n",
    "    preds = []\n",
    "    for step, (input_ids, attention_mask, lat, lon) in tqdm(enumerate(test_loader), total=len(test_loader)):\n",
    "        input_ids = input_ids.to(device)\n",
    "        attention_mask = attention_mask.to(device)\n",
    "        lat = lat.to(device)\n",
    "        lon = lon.to(device)\n",
    "        \n",
    "        with torch.no_grad():\n",
    "            pred = model.extract(input_ids, attention_mask, lat, lon)\n",
    "        preds.append(pred.detach().cpu().numpy())\n",
    "        \n",
    "    preds = np.concatenate(preds)\n",
    "    \n",
    "    return preds"
   ]
  },
  {
   "cell_type": "code",
   "execution_count": 29,
   "id": "42d5c530",
   "metadata": {
    "execution": {
     "iopub.execute_input": "2022-07-09T18:47:14.433730Z",
     "iopub.status.busy": "2022-07-09T18:47:14.433181Z",
     "iopub.status.idle": "2022-07-09T18:47:14.440930Z",
     "shell.execute_reply": "2022-07-09T18:47:14.440236Z"
    },
    "id": "69d68292",
    "papermill": {
     "duration": 0.022072,
     "end_time": "2022-07-09T18:47:14.442625",
     "exception": false,
     "start_time": "2022-07-09T18:47:14.420553",
     "status": "completed"
    },
    "tags": []
   },
   "outputs": [],
   "source": [
    "def predict(embedding):\n",
    "\n",
    "    df = []\n",
    "\n",
    "    for country, country_df in tqdm(original_df.groupby('country')):\n",
    "        \n",
    "        country_embedding = embedding[country_df.index]\n",
    "        country_df = country_df.reset_index(drop=True)\n",
    "        country_df[\"index\"] = country_df.index\n",
    "        \n",
    "        neighbors = min(len(country_df), CFG.n_neighbors)\n",
    "\n",
    "        knn = NearestNeighbors(n_neighbors = neighbors,\n",
    "                                             metric = 'cosine',\n",
    "                                             algorithm='brute',\n",
    "                                             n_jobs = -1)\n",
    "        \n",
    "        knn.fit(country_embedding, country_df.index)\n",
    "\n",
    "        dists, nears = knn.kneighbors(country_embedding, return_distance = True)\n",
    "\n",
    "        for k in range(neighbors):            \n",
    "            cur_df = country_df[['id']]\n",
    "            cur_df['match_id'] = country_df['id'].values[nears[:, k]]\n",
    "            cur_df['cos_dist'] = dists[:, k]\n",
    "\n",
    "            cur_df = cur_df[cur_df[\"cos_dist\"]<CFG.threshold]\n",
    "\n",
    "            df.append(cur_df)\n",
    "\n",
    "    df = pd.concat(df).reset_index(drop = True)\n",
    "\n",
    "    return df"
   ]
  },
  {
   "cell_type": "code",
   "execution_count": 30,
   "id": "137870de",
   "metadata": {
    "execution": {
     "iopub.execute_input": "2022-07-09T18:47:14.466246Z",
     "iopub.status.busy": "2022-07-09T18:47:14.465629Z",
     "iopub.status.idle": "2022-07-09T18:47:14.471707Z",
     "shell.execute_reply": "2022-07-09T18:47:14.470897Z"
    },
    "id": "bac45403",
    "papermill": {
     "duration": 0.019478,
     "end_time": "2022-07-09T18:47:14.473342",
     "exception": false,
     "start_time": "2022-07-09T18:47:14.453864",
     "status": "completed"
    },
    "tags": []
   },
   "outputs": [],
   "source": [
    "def post_process(df):\n",
    "\n",
    "    id2match = dict(zip(df['id'].values, df['matches'].str.split()))\n",
    "\n",
    "    for base, match in df[['id', 'matches']].values:\n",
    "        match = match.split()\n",
    "        if len(match) == 1:        \n",
    "            continue\n",
    "\n",
    "        for m in match:\n",
    "            if base not in id2match[m]:\n",
    "                id2match[m].append(base)\n",
    "    df['matches'] = df['id'].map(id2match).map(' '.join)\n",
    "    \n",
    "    return df "
   ]
  },
  {
   "cell_type": "code",
   "execution_count": 31,
   "id": "cf43bd0e",
   "metadata": {
    "execution": {
     "iopub.execute_input": "2022-07-09T18:47:14.497324Z",
     "iopub.status.busy": "2022-07-09T18:47:14.496795Z",
     "iopub.status.idle": "2022-07-09T18:47:40.681689Z",
     "shell.execute_reply": "2022-07-09T18:47:40.680666Z"
    },
    "id": "d08e65b0",
    "papermill": {
     "duration": 26.198742,
     "end_time": "2022-07-09T18:47:40.683767",
     "exception": false,
     "start_time": "2022-07-09T18:47:14.485025",
     "status": "completed"
    },
    "tags": []
   },
   "outputs": [
    {
     "name": "stderr",
     "output_type": "stream",
     "text": [
      "100%|██████████| 1/1 [00:01<00:00,  1.20s/it]\n",
      "100%|██████████| 4/4 [00:00<00:00,  9.30it/s]\n"
     ]
    },
    {
     "data": {
      "text/html": [
       "<div>\n",
       "<style scoped>\n",
       "    .dataframe tbody tr th:only-of-type {\n",
       "        vertical-align: middle;\n",
       "    }\n",
       "\n",
       "    .dataframe tbody tr th {\n",
       "        vertical-align: top;\n",
       "    }\n",
       "\n",
       "    .dataframe thead th {\n",
       "        text-align: right;\n",
       "    }\n",
       "</style>\n",
       "<table border=\"1\" class=\"dataframe\">\n",
       "  <thead>\n",
       "    <tr style=\"text-align: right;\">\n",
       "      <th></th>\n",
       "      <th>id</th>\n",
       "      <th>matches</th>\n",
       "    </tr>\n",
       "  </thead>\n",
       "  <tbody>\n",
       "    <tr>\n",
       "      <th>0</th>\n",
       "      <td>E_00001118ad0191</td>\n",
       "      <td>E_00001118ad0191</td>\n",
       "    </tr>\n",
       "    <tr>\n",
       "      <th>1</th>\n",
       "      <td>E_000020eb6fed40</td>\n",
       "      <td>E_000020eb6fed40</td>\n",
       "    </tr>\n",
       "    <tr>\n",
       "      <th>2</th>\n",
       "      <td>E_00002f98667edf</td>\n",
       "      <td>E_00002f98667edf</td>\n",
       "    </tr>\n",
       "    <tr>\n",
       "      <th>3</th>\n",
       "      <td>E_001b6bad66eb98</td>\n",
       "      <td>E_001b6bad66eb98 E_0283d9f61e569d</td>\n",
       "    </tr>\n",
       "    <tr>\n",
       "      <th>4</th>\n",
       "      <td>E_0283d9f61e569d</td>\n",
       "      <td>E_0283d9f61e569d E_001b6bad66eb98</td>\n",
       "    </tr>\n",
       "  </tbody>\n",
       "</table>\n",
       "</div>"
      ],
      "text/plain": [
       "                 id                            matches\n",
       "0  E_00001118ad0191                   E_00001118ad0191\n",
       "1  E_000020eb6fed40                   E_000020eb6fed40\n",
       "2  E_00002f98667edf                   E_00002f98667edf\n",
       "3  E_001b6bad66eb98  E_001b6bad66eb98 E_0283d9f61e569d\n",
       "4  E_0283d9f61e569d  E_0283d9f61e569d E_001b6bad66eb98"
      ]
     },
     "metadata": {},
     "output_type": "display_data"
    }
   ],
   "source": [
    "if not CFG.train:\n",
    "    \n",
    "    embedding = inference_fn(original_df)\n",
    "    df = predict(embedding)\n",
    "    \n",
    "    # post process1\n",
    "    tmp_df = original_df[[\"id\"]]\n",
    "    tmp_df[\"match_id\"] = tmp_df[\"id\"]\n",
    "    df = pd.concat([df, tmp_df]).drop_duplicates([\"id\", \"match_id\"]).reset_index(drop=True)\n",
    "    \n",
    "    sub = df.groupby([\"id\"])[\"match_id\"].apply(list).reset_index()\n",
    "    sub.columns = [\"id\", \"matches\"]\n",
    "    sub[\"matches\"] = sub[\"matches\"].map(\" \".join)\n",
    "\n",
    "    # post process2\n",
    "    sub = post_process(sub)\n",
    "\n",
    "    sub.to_csv(\"submission.csv\", index=False)\n",
    "    display(sub)"
   ]
  }
 ],
 "metadata": {
  "kernelspec": {
   "display_name": "Python 3",
   "language": "python",
   "name": "python3"
  },
  "language_info": {
   "codemirror_mode": {
    "name": "ipython",
    "version": 3
   },
   "file_extension": ".py",
   "mimetype": "text/x-python",
   "name": "python",
   "nbconvert_exporter": "python",
   "pygments_lexer": "ipython3",
   "version": "3.7.12"
  },
  "papermill": {
   "default_parameters": {},
   "duration": 94.337339,
   "end_time": "2022-07-09T18:47:43.626629",
   "environment_variables": {},
   "exception": null,
   "input_path": "__notebook__.ipynb",
   "output_path": "__notebook__.ipynb",
   "parameters": {},
   "start_time": "2022-07-09T18:46:09.289290",
   "version": "2.3.4"
  }
 },
 "nbformat": 4,
 "nbformat_minor": 5
}
